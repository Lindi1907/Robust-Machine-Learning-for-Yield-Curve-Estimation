{
 "cells": [
  {
   "cell_type": "code",
   "execution_count": 10,
   "metadata": {},
   "outputs": [],
   "source": [
    "import numpy as np\n",
    "import scipy.sparse as sps \n",
    "data = sps.load_npz(\"./example_data/cashflow_1961-06-30.npz\").toarray()\n",
    "# print(data.files)  \n"
   ]
  },
  {
   "cell_type": "code",
   "execution_count": 11,
   "metadata": {},
   "outputs": [
    {
     "data": {
      "text/plain": [
       "array([ 89, 119, 150, ..., 169, 183, 344])"
      ]
     },
     "execution_count": 11,
     "metadata": {},
     "output_type": "execute_result"
    }
   ],
   "source": [
    "data['indices']"
   ]
  },
  {
   "cell_type": "code",
   "execution_count": 12,
   "metadata": {},
   "outputs": [
    {
     "data": {
      "text/plain": [
       "array([   0,    1,    2,    3,    4,    6,    8,   13,   18,   23,   28,\n",
       "         33,   39,   45,   56,   68,  119,  171,  173,  179,  181,  187,\n",
       "        188,  240,  242,  244,  250,  252,  264,  267,  270,  272,  278,\n",
       "        281,  285,  289,  293,  297,  300,  307,  312,  317,  322,  327,\n",
       "        333,  339,  342,  349,  362,  371,  380,  433,  440,  447,  455,\n",
       "        463,  471,  480,  483,  497,  512,  519,  529,  540,  551,  563,\n",
       "        576,  589,  592,  599,  614,  630,  646,  664,  682,  701,  704,\n",
       "        711,  724,  777,  802,  828,  854,  881,  909,  937,  967,  970,\n",
       "        977, 1009, 1042, 1077, 1122, 1169, 1216, 1265, 1314, 1365, 1369,\n",
       "       1377, 1381, 1389, 1403, 1457, 1461, 1469, 1473, 1481, 1485, 1493,\n",
       "       1507, 1561, 1565, 1573, 1578, 1587, 1592, 1601, 1616, 1671, 1676,\n",
       "       1685, 1686, 1691, 1700, 1701, 1706, 1715, 1730, 1785, 1786, 1791,\n",
       "       1800, 1802, 1808, 1818, 1820, 1826, 1836, 1852, 1908, 1910, 1916,\n",
       "       1926, 1928, 1934, 1944, 1946, 1952, 1962, 1978, 2034, 2036, 2042,\n",
       "       2052, 2055, 2062, 2073, 2076, 2083, 2094, 2111, 2168, 2169, 2172,\n",
       "       2179, 2190, 2191, 2194, 2201, 2212, 2213, 2216, 2223, 2234, 2251,\n",
       "       2308, 2309, 2312, 2319, 2330, 2336, 2343, 2345, 2349, 2357, 2369,\n",
       "       2379, 2389, 2391, 2395, 2403, 2415, 2433, 2491, 2493, 2497, 2505,\n",
       "       2517, 2519, 2523, 2531, 2543, 2545, 2549, 2557, 2569, 2587, 2645,\n",
       "       2665, 2667, 2689, 2693, 2701, 2713, 2736, 2739, 2763, 2768, 2777,\n",
       "       2790, 2793, 2798, 2807, 2820, 2839, 2898, 2899, 2902, 2907, 2916,\n",
       "       2917, 2920, 2925, 2934, 2947, 2960, 2961, 2991, 2994, 2999, 3008,\n",
       "       3021, 3052, 3071, 3130, 3131, 3134, 3139, 3148, 3161, 3162, 3166,\n",
       "       3172, 3182, 3196, 3197, 3201, 3207, 3221, 3222, 3226, 3232, 3246,\n",
       "       3247, 3248, 3249, 3250, 3251, 3255, 3261, 3271, 3285, 3286, 3287,\n",
       "       3288, 3289, 3290, 3291, 3292, 3293])"
      ]
     },
     "execution_count": 12,
     "metadata": {},
     "output_type": "execute_result"
    }
   ],
   "source": [
    "data['indptr']"
   ]
  },
  {
   "cell_type": "code",
   "execution_count": 13,
   "metadata": {},
   "outputs": [
    {
     "data": {
      "text/plain": [
       "array(b'csr', dtype='|S3')"
      ]
     },
     "execution_count": 13,
     "metadata": {},
     "output_type": "execute_result"
    }
   ],
   "source": [
    "data['format']"
   ]
  },
  {
   "cell_type": "code",
   "execution_count": 14,
   "metadata": {},
   "outputs": [
    {
     "data": {
      "text/plain": [
       "array([  280, 10727], dtype=int64)"
      ]
     },
     "execution_count": 14,
     "metadata": {},
     "output_type": "execute_result"
    }
   ],
   "source": [
    "data['shape']"
   ]
  },
  {
   "cell_type": "code",
   "execution_count": 15,
   "metadata": {},
   "outputs": [
    {
     "data": {
      "text/plain": [
       "array([100.875 , 100.9375, 101.125 , ..., 100.    , 100.    , 100.    ])"
      ]
     },
     "execution_count": 15,
     "metadata": {},
     "output_type": "execute_result"
    }
   ],
   "source": [
    "data['data']"
   ]
  },
  {
   "cell_type": "code",
   "execution_count": 11,
   "metadata": {},
   "outputs": [
    {
     "name": "stdout",
     "output_type": "stream",
     "text": [
      "[[  0.       0.       0.     ...   0.       0.       0.    ]\n",
      " [  0.       0.       0.     ...   0.       0.       0.    ]\n",
      " [  0.       0.       0.     ...   0.       0.       0.    ]\n",
      " ...\n",
      " [  0.       0.       0.     ...   0.       0.       0.    ]\n",
      " [  0.       0.       0.     ...   0.       0.       0.    ]\n",
      " [  0.       0.       0.     ...   0.       0.     101.9375]]\n"
     ]
    }
   ],
   "source": [
    "import numpy as np\n",
    "data_P = np.load(\"./example_data/price_1961-06-30.npy\")\n",
    "print(data)  "
   ]
  },
  {
   "cell_type": "code",
   "execution_count": null,
   "metadata": {},
   "outputs": [],
   "source": []
  },
  {
   "cell_type": "code",
   "execution_count": null,
   "metadata": {},
   "outputs": [],
   "source": []
  },
  {
   "cell_type": "code",
   "execution_count": null,
   "metadata": {},
   "outputs": [],
   "source": []
  }
 ],
 "metadata": {
  "kernelspec": {
   "display_name": "Python 3.10.8 ('assignment_4')",
   "language": "python",
   "name": "python3"
  },
  "language_info": {
   "codemirror_mode": {
    "name": "ipython",
    "version": 3
   },
   "file_extension": ".py",
   "mimetype": "text/x-python",
   "name": "python",
   "nbconvert_exporter": "python",
   "pygments_lexer": "ipython3",
   "version": "3.10.8"
  },
  "orig_nbformat": 4,
  "vscode": {
   "interpreter": {
    "hash": "dd885df64be31788f2722cf6a66fc1198b10756bdef8eed583efa071321d6aec"
   }
  }
 },
 "nbformat": 4,
 "nbformat_minor": 2
}
